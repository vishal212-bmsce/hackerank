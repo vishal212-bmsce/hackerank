{
 "cells": [
  {
   "cell_type": "code",
   "execution_count": 7,
   "id": "4b724f83-7c9b-4180-82c9-01aa403e53ab",
   "metadata": {},
   "outputs": [
    {
     "name": "stdout",
     "output_type": "stream",
     "text": [
      "YES\n",
      "NO\n",
      "YES\n"
     ]
    }
   ],
   "source": [
    "def isBalanced(s):\n",
    "    stack = []\n",
    "    brackets = {'(': ')', '{': '}', '[': ']'}\n",
    "    for char in s:\n",
    "        if char in brackets:\n",
    "            stack.append(char)\n",
    "        elif stack and char == brackets[stack[-1]]:\n",
    "            stack.pop()\n",
    "        else:\n",
    "            return \"NO\"\n",
    "    return \"YES\" if not stack else \"NO\"\n",
    "\n",
    "\n",
    "print(isBalanced(\"{[()]}\")) \n",
    "print(isBalanced(\"{[(])}\")) \n",
    "print(isBalanced(\"{{[[(())]]}}\")) \n"
   ]
  },
  {
   "cell_type": "code",
   "execution_count": 2,
   "id": "9ef0c5ec-8409-4aae-a79c-87b5eeee3a0c",
   "metadata": {},
   "outputs": [
    {
     "name": "stdout",
     "output_type": "stream",
     "text": [
      "1\n",
      "2\n"
     ]
    }
   ],
   "source": [
    "class QueueUsingTwoStacks:\n",
    "    def __init__(self):\n",
    "        self.stack_in = []\n",
    "        self.stack_out = []\n",
    "\n",
    "    def enqueue(self, value):\n",
    "        self.stack_in.append(value)\n",
    "\n",
    "    def dequeue(self):\n",
    "        if not self.stack_out:\n",
    "            while self.stack_in:\n",
    "                self.stack_out.append(self.stack_in.pop())\n",
    "        return self.stack_out.pop() if self.stack_out else None\n",
    "\n",
    "    def front(self):\n",
    "        if not self.stack_out:\n",
    "            while self.stack_in:\n",
    "                self.stack_out.append(self.stack_in.pop())\n",
    "        return self.stack_out[-1] if self.stack_out else None\n",
    "\n",
    "\n",
    "queue = QueueUsingTwoStacks()\n",
    "queue.enqueue(1)\n",
    "queue.enqueue(2)\n",
    "print(queue.dequeue()) \n",
    "print(queue.front())   \n"
   ]
  },
  {
   "cell_type": "code",
   "execution_count": 8,
   "id": "a1077f95-ade1-4d5c-b6d9-da0218ab959b",
   "metadata": {},
   "outputs": [
    {
     "name": "stdout",
     "output_type": "stream",
     "text": [
      "4\n"
     ]
    }
   ],
   "source": [
    "def twoStacks(maxSum, a, b):\n",
    "    sum = 0\n",
    "    count = 0\n",
    "    i = 0\n",
    "    while i < len(a) and sum + a[i] <= maxSum:\n",
    "        sum += a[i]\n",
    "        i += 1\n",
    "        count += 1\n",
    "\n",
    "    max_count = count\n",
    "    j = 0\n",
    "\n",
    "    while j < len(b) and i >= 0:\n",
    "        sum += b[j]\n",
    "        j += 1\n",
    "\n",
    "        while sum > maxSum and i > 0:\n",
    "            i -= 1\n",
    "            sum -= a[i]\n",
    "\n",
    "        if sum <= maxSum:\n",
    "            max_count = max(max_count, i + j)\n",
    "\n",
    "    return max_count\n",
    "\n",
    "maxSum = 10\n",
    "a = [4, 2, 4, 6, 1]\n",
    "b = [2, 1, 8, 5]\n",
    "\n",
    "print(twoStacks(maxSum, a, b)) \n"
   ]
  },
  {
   "cell_type": "code",
   "execution_count": null,
   "id": "a18d2937-86a7-45e4-b841-b3fc7e7ba98d",
   "metadata": {},
   "outputs": [],
   "source": []
  }
 ],
 "metadata": {
  "kernelspec": {
   "display_name": "Python 3 (ipykernel)",
   "language": "python",
   "name": "python3"
  },
  "language_info": {
   "codemirror_mode": {
    "name": "ipython",
    "version": 3
   },
   "file_extension": ".py",
   "mimetype": "text/x-python",
   "name": "python",
   "nbconvert_exporter": "python",
   "pygments_lexer": "ipython3",
   "version": "3.12.4"
  }
 },
 "nbformat": 4,
 "nbformat_minor": 5
}
